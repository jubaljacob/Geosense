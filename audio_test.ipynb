{
 "cells": [
  {
   "cell_type": "code",
   "execution_count": null,
   "metadata": {},
   "outputs": [],
   "source": [
    "!pip install  pyaudio"
   ]
  },
  {
   "cell_type": "code",
   "execution_count": null,
   "metadata": {},
   "outputs": [],
   "source": [
    "!pip install SpeechRecognition"
   ]
  },
  {
   "cell_type": "code",
   "execution_count": null,
   "metadata": {},
   "outputs": [],
   "source": [
    "import speech_recognition as sr\n",
    "from googletrans import Translator\n",
    "\n",
    "# Function to detect spoken language\n",
    "def detect_language(query):\n",
    "    translator = Translator()\n",
    "    detected = translator.detect(query)\n",
    "    return detected.lang\n",
    "\n",
    "# Function to translate to English\n",
    "def translate_to_english(query, source_lang):\n",
    "    translator = Translator()\n",
    "    translation = translator.translate(query, src=source_lang, dest='en')\n",
    "    return translation.text\n",
    "\n",
    "# Function to take command through microphone\n",
    "def take_command():\n",
    "    recognizer = sr.Recognizer()\n",
    "    with sr.Microphone() as source:\n",
    "        print(\"Listening...\")\n",
    "        recognizer.adjust_for_ambient_noise(source)\n",
    "        audio = recognizer.listen(source)\n",
    "\n",
    "    try:\n",
    "        print(\"Recognizing...\")\n",
    "        query = recognizer.recognize_google(audio)\n",
    "        print(f\"The user said: {query}\\n\")\n",
    "        return query\n",
    "    except sr.UnknownValueError:\n",
    "        print(\"Sorry, I couldn't understand the audio.\")\n",
    "    except sr.RequestError:\n",
    "        print(\"There was an error with the request.\")\n",
    "\n",
    "    return \"\"\n",
    "\n",
    "# Main function\n",
    "def main():\n",
    "    query = take_command()\n",
    "    while not query:\n",
    "        query = take_command()\n",
    "\n",
    "    source_lang = detect_language(query)\n",
    "    if source_lang not in ['ta', 'en', 'ml', 'hi']:\n",
    "        print(\"This language is not supported for translation.\")\n",
    "        return\n",
    "\n",
    "    if source_lang != 'en':\n",
    "        translated_text = translate_to_english(query, source_lang)\n",
    "        print(f\"Translated text in English: {translated_text}\")\n",
    "    else:\n",
    "        print(\"The spoken text is already in English.\")\n",
    "\n",
    "if __name__ == \"__main__\":\n",
    "    main()"
   ]
  }
 ],
 "metadata": {
  "kernelspec": {
   "display_name": "Python 3",
   "language": "python",
   "name": "python3"
  },
  "language_info": {
   "codemirror_mode": {
    "name": "ipython",
    "version": 3
   },
   "file_extension": ".py",
   "mimetype": "text/x-python",
   "name": "python",
   "nbconvert_exporter": "python",
   "pygments_lexer": "ipython3",
   "version": "3.11.6"
  }
 },
 "nbformat": 4,
 "nbformat_minor": 2
}
